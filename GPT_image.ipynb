{
  "cells": [
    {
      "cell_type": "markdown",
      "metadata": {
        "id": "bsNXmq4zp8bZ"
      },
      "source": [
        "## 1. BLIP으로 이미지를 설명하는 프롬프트 1차 생성"
      ]
    },
    {
      "cell_type": "code",
      "execution_count": 1,
      "metadata": {
        "id": "u3hHqndo16Ze"
      },
      "outputs": [],
      "source": [
        "from transformers import BlipProcessor, BlipForConditionalGeneration\n",
        "from PIL import Image\n",
        "\n",
        "def BLIP_caption(image_path):\n",
        "    # 모델 로드\n",
        "    processor = BlipProcessor.from_pretrained(\"Salesforce/blip-image-captioning-base\")\n",
        "    model = BlipForConditionalGeneration.from_pretrained(\"Salesforce/blip-image-captioning-base\")\n",
        "\n",
        "    # 이미지로부터 설명 생성\n",
        "    inputs = processor(images=Image.open(image_path), return_tensors=\"pt\")\n",
        "\n",
        "    # 프롬프트 생성\n",
        "    out = model.generate(**inputs)\n",
        "    caption = processor.decode(out[0], skip_special_tokens=True)\n",
        "    return caption"
      ]
    },
    {
      "cell_type": "code",
      "execution_count": 5,
      "metadata": {
        "colab": {
          "base_uri": "https://localhost:8080/"
        },
        "id": "RDvyskTjqKwA",
        "outputId": "7b01e055-edde-4f41-ba82-9552a590f745"
      },
      "outputs": [
        {
          "output_type": "stream",
          "name": "stdout",
          "text": [
            "a woman taking a picture of herself\n"
          ]
        }
      ],
      "source": [
        "# 이미지 열기\n",
        "image_path = \"./example.png\"\n",
        "\n",
        "print(BLIP_caption(image_path))"
      ]
    },
    {
      "cell_type": "markdown",
      "metadata": {
        "id": "-OtcZ06XqdRt"
      },
      "source": [
        "## 2. GPT를 이용하여 이미지의 프롬프트 구체화"
      ]
    },
    {
      "cell_type": "code",
      "execution_count": null,
      "metadata": {
        "id": "8OmlJNExqheI"
      },
      "outputs": [],
      "source": [
        "import base64\n",
        "import requests\n",
        "\n",
        "OPENAI_KEY = \"\""
      ]
    },
    {
      "cell_type": "code",
      "execution_count": null,
      "metadata": {
        "id": "K7R_yZqAosM8"
      },
      "outputs": [],
      "source": [
        "def encode_image(image_path):\n",
        "  with open(image_path, \"rb\") as image_file:\n",
        "    return base64.b64encode(image_file.read()).decode('utf-8')\n",
        "\n",
        "def get_gpt_response(image_filename, question):\n",
        "    # Path to your image\n",
        "    image_path = image_filename\n",
        "\n",
        "    # Getting the base64 string\n",
        "    base64_image = encode_image(image_path)\n",
        "\n",
        "    headers = {\n",
        "      \"Content-Type\": \"application/json\",\n",
        "      \"Authorization\": f\"Bearer {OPENAI_KEY}\"\n",
        "    }\n",
        "\n",
        "    payload = {\n",
        "      \"model\": \"gpt-4o\",\n",
        "      \"messages\": [\n",
        "        {\n",
        "          \"role\": \"user\",\n",
        "          \"content\": [\n",
        "            {\n",
        "              \"type\": \"text\",\n",
        "              \"text\": question\n",
        "            },\n",
        "            {\n",
        "              \"type\": \"image_url\",\n",
        "              \"image_url\": {\n",
        "                \"url\": f\"data:image/jpeg;base64,{base64_image}\"\n",
        "              }\n",
        "            }\n",
        "          ]\n",
        "        }\n",
        "      ],\n",
        "      \"max_tokens\": 2048\n",
        "    }\n",
        "\n",
        "    response = requests.post(\"https://api.openai.com/v1/chat/completions\", headers=headers, json=payload)\n",
        "\n",
        "    return response.json()['choices'][0]['message']['content']"
      ]
    },
    {
      "cell_type": "code",
      "execution_count": null,
      "metadata": {
        "colab": {
          "base_uri": "https://localhost:8080/"
        },
        "id": "62iIOZKZqlH4",
        "outputId": "6c55e8cd-a929-46b4-8c69-9499fc323757"
      },
      "outputs": [
        {
          "name": "stdout",
          "output_type": "stream",
          "text": [
            "A cute cartoon girl taking a selfie with a smartphone. She has long dark hair and is smiling, dressed warmly in a blue and cream varsity jacket with the letter \"S\" on the sleeve. She's wearing a cozy cream-colored scarf and holding what looks like a round handle or tool in her left hand. The background suggests she is in an indoor setting, possibly wood-paneled, with a small sign behind her that has a hand symbol. The image has a soft, warm color palette and a charming, friendly vibe.\n"
          ]
        }
      ],
      "source": [
        "improved_prompt = get_gpt_response(image_path, 'Generate the detailed prompt that represents the given image.\\n'+'Please refer to the following prompt.: \\n'+caption)\n",
        "print(improved_prompt)"
      ]
    },
    {
      "cell_type": "code",
      "execution_count": null,
      "metadata": {
        "id": "jfEAhxLMrMhT"
      },
      "outputs": [],
      "source": [
        "from openai import OpenAI\n",
        "client = OpenAI(api_key=OPENAI_KEY)\n",
        "\n",
        "response = client.images.generate(\n",
        "  model=\"dall-e-3\",\n",
        "  prompt=improved_prompt,\n",
        "  size=\"1024x1024\",\n",
        "  quality=\"standard\",\n",
        "  n=1,\n",
        ")\n",
        "\n",
        "image_url = response.data[0].url\n",
        "\n",
        "im = Image.open(requests.get(image_url, stream=True).raw)\n",
        "im"
      ]
    },
    {
      "cell_type": "code",
      "execution_count": null,
      "metadata": {
        "id": "EawX9HI8u9PB"
      },
      "outputs": [],
      "source": []
    }
  ],
  "metadata": {
    "colab": {
      "provenance": []
    },
    "kernelspec": {
      "display_name": "Python 3",
      "name": "python3"
    },
    "language_info": {
      "name": "python"
    }
  },
  "nbformat": 4,
  "nbformat_minor": 0
}